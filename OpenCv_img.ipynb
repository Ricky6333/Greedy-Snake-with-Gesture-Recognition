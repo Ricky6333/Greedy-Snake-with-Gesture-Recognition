{
 "cells": [
  {
   "cell_type": "code",
   "execution_count": 1,
   "metadata": {},
   "outputs": [],
   "source": [
    "import cv2\n",
    "import torchvision.transforms as transforms\n",
    "\n",
    "# 設定攝影機\n",
    "cap = cv2.VideoCapture(0)\n",
    "check = True\n",
    "img_list = []\n",
    "idx = 0\n",
    "\n",
    "# 設定顯示視窗\n",
    "cv2.namedWindow(\"frame\",0)\n",
    "cv2.resizeWindow('frame', 500, 500)\n",
    "cv2.namedWindow(\"frame2\",0)\n",
    "cv2.resizeWindow('frame2', 500, 500)\n",
    "\n",
    "# 裁切區域的 x 與 y 座標（左上角）\n",
    "x = 100\n",
    "y = 100\n",
    "# 裁切區域的長度與寬度\n",
    "w = 230\n",
    "h = 230\n",
    "\n",
    "\n",
    "while(True):\n",
    "    # 從攝影機擷取影像\n",
    "    ret, img = cap.read()\n",
    "    img = cv2.flip(img,1) # 翻轉鏡頭\n",
    "\n",
    "    img = img[y:y+h, x:x+w]                           # 裁切圖片\n",
    "    img_g = cv2.cvtColor( img, cv2.COLOR_BGR2GRAY)    # 轉為灰階\n",
    "    img_b = cv2.GaussianBlur(img_g, (3, 3), 0)        # 模糊化\n",
    "    ret, img_th = cv2.threshold(img_b, 105, 255, cv2.THRESH_BINARY) # 二值化\n",
    "\n",
    "    # 顯示圖片\n",
    "    cv2.imshow('frame', img)\n",
    "    cv2.imshow('frame2',img_th)\n",
    "    \n",
    "    key = cv2.waitKey(1)\n",
    "    if key == 32:           # 按下Space截圖\n",
    "        print(img_th.shape)\n",
    "        img_list.append(img_th)\n",
    "        idx += 1\n",
    "        print(idx)\n",
    "\n",
    "\n",
    "    # 若按下 q 鍵則離開迴圈\n",
    "    if cv2.waitKey(1) & 0xFF == ord('q'):\n",
    "        break\n",
    "\n",
    "cap.release()           # 釋放(關閉)鏡頭\n",
    "cv2.destroyAllWindows() # 關閉 Opencv 視窗"
   ]
  },
  {
   "cell_type": "code",
   "execution_count": 8,
   "metadata": {},
   "outputs": [
    {
     "name": "stdout",
     "output_type": "stream",
     "text": [
      "70\n"
     ]
    }
   ],
   "source": [
    "for i in range(idx):\n",
    "    # print(i)\n",
    "    # f'./Hand_data/test_data/right/right_{i}.JPG'\n",
    "    # f'./cv_img/test_img_{i}.JPG'\n",
    "    sc = cv2.imwrite( f'./Hand_data/train_data/left/left_{i+131}.JPG', img_list[i])\n",
    "    # print(sc)\n",
    "print(idx)"
   ]
  },
  {
   "cell_type": "markdown",
   "metadata": {},
   "source": [
    "## "
   ]
  }
 ],
 "metadata": {
  "interpreter": {
   "hash": "02963059bcfe9ec13866d8bbde8ec3e30f8393cff7234988bdd62b85a7bebcd1"
  },
  "kernelspec": {
   "display_name": "Python 3.7.6 64-bit ('base': conda)",
   "language": "python",
   "name": "python3"
  },
  "language_info": {
   "codemirror_mode": {
    "name": "ipython",
    "version": 3
   },
   "file_extension": ".py",
   "mimetype": "text/x-python",
   "name": "python",
   "nbconvert_exporter": "python",
   "pygments_lexer": "ipython3",
   "version": "3.7.6"
  },
  "orig_nbformat": 4
 },
 "nbformat": 4,
 "nbformat_minor": 2
}
